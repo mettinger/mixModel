{
  "nbformat": 4,
  "nbformat_minor": 0,
  "metadata": {
    "kernelspec": {
      "display_name": "Python 3",
      "language": "python",
      "name": "python3"
    },
    "language_info": {
      "codemirror_mode": {
        "name": "ipython",
        "version": 3
      },
      "file_extension": ".py",
      "mimetype": "text/x-python",
      "name": "python",
      "nbconvert_exporter": "python",
      "pygments_lexer": "ipython3",
      "version": "3.8.6"
    },
    "colab": {
      "name": "mixModelTest.ipynb",
      "provenance": []
    }
  },
  "cells": [
    {
      "cell_type": "markdown",
      "metadata": {
        "id": "jtlrT6EwZgOl"
      },
      "source": [
        "[![Open In Colab](https://colab.research.google.com/assets/colab-badge.svg)](https://colab.research.google.com/github/mettinger/mixModel/blob/main/mixModelTest.ipynb)"
      ]
    },
    {
      "cell_type": "code",
      "metadata": {
        "colab": {
          "base_uri": "https://localhost:8080/"
        },
        "id": "cGyX7K9dakPz",
        "outputId": "c4d7d066-5a2f-40ca-a6cb-a1561ca3ad0c"
      },
      "source": [
        "!pip3 install pyro-ppl "
      ],
      "execution_count": 2,
      "outputs": [
        {
          "output_type": "stream",
          "text": [
            "Collecting pyro-ppl\n",
            "\u001b[?25l  Downloading https://files.pythonhosted.org/packages/d5/6c/60e3d9c258d0a145013e7b88d667879ac7ae131c3dd30bb5971548f101bb/pyro_ppl-1.5.1-py3-none-any.whl (607kB)\n",
            "\r\u001b[K     |▌                               | 10kB 16.1MB/s eta 0:00:01\r\u001b[K     |█                               | 20kB 20.6MB/s eta 0:00:01\r\u001b[K     |█▋                              | 30kB 18.8MB/s eta 0:00:01\r\u001b[K     |██▏                             | 40kB 12.1MB/s eta 0:00:01\r\u001b[K     |██▊                             | 51kB 7.8MB/s eta 0:00:01\r\u001b[K     |███▎                            | 61kB 7.9MB/s eta 0:00:01\r\u001b[K     |███▊                            | 71kB 8.3MB/s eta 0:00:01\r\u001b[K     |████▎                           | 81kB 9.1MB/s eta 0:00:01\r\u001b[K     |████▉                           | 92kB 8.9MB/s eta 0:00:01\r\u001b[K     |█████▍                          | 102kB 9.4MB/s eta 0:00:01\r\u001b[K     |██████                          | 112kB 9.4MB/s eta 0:00:01\r\u001b[K     |██████▌                         | 122kB 9.4MB/s eta 0:00:01\r\u001b[K     |███████                         | 133kB 9.4MB/s eta 0:00:01\r\u001b[K     |███████▌                        | 143kB 9.4MB/s eta 0:00:01\r\u001b[K     |████████                        | 153kB 9.4MB/s eta 0:00:01\r\u001b[K     |████████▋                       | 163kB 9.4MB/s eta 0:00:01\r\u001b[K     |█████████▏                      | 174kB 9.4MB/s eta 0:00:01\r\u001b[K     |█████████▊                      | 184kB 9.4MB/s eta 0:00:01\r\u001b[K     |██████████▎                     | 194kB 9.4MB/s eta 0:00:01\r\u001b[K     |██████████▉                     | 204kB 9.4MB/s eta 0:00:01\r\u001b[K     |███████████▎                    | 215kB 9.4MB/s eta 0:00:01\r\u001b[K     |███████████▉                    | 225kB 9.4MB/s eta 0:00:01\r\u001b[K     |████████████▍                   | 235kB 9.4MB/s eta 0:00:01\r\u001b[K     |█████████████                   | 245kB 9.4MB/s eta 0:00:01\r\u001b[K     |█████████████▌                  | 256kB 9.4MB/s eta 0:00:01\r\u001b[K     |██████████████                  | 266kB 9.4MB/s eta 0:00:01\r\u001b[K     |██████████████▋                 | 276kB 9.4MB/s eta 0:00:01\r\u001b[K     |███████████████                 | 286kB 9.4MB/s eta 0:00:01\r\u001b[K     |███████████████▋                | 296kB 9.4MB/s eta 0:00:01\r\u001b[K     |████████████████▏               | 307kB 9.4MB/s eta 0:00:01\r\u001b[K     |████████████████▊               | 317kB 9.4MB/s eta 0:00:01\r\u001b[K     |█████████████████▎              | 327kB 9.4MB/s eta 0:00:01\r\u001b[K     |█████████████████▉              | 337kB 9.4MB/s eta 0:00:01\r\u001b[K     |██████████████████▍             | 348kB 9.4MB/s eta 0:00:01\r\u001b[K     |██████████████████▉             | 358kB 9.4MB/s eta 0:00:01\r\u001b[K     |███████████████████▍            | 368kB 9.4MB/s eta 0:00:01\r\u001b[K     |████████████████████            | 378kB 9.4MB/s eta 0:00:01\r\u001b[K     |████████████████████▌           | 389kB 9.4MB/s eta 0:00:01\r\u001b[K     |█████████████████████           | 399kB 9.4MB/s eta 0:00:01\r\u001b[K     |█████████████████████▋          | 409kB 9.4MB/s eta 0:00:01\r\u001b[K     |██████████████████████▏         | 419kB 9.4MB/s eta 0:00:01\r\u001b[K     |██████████████████████▋         | 430kB 9.4MB/s eta 0:00:01\r\u001b[K     |███████████████████████▏        | 440kB 9.4MB/s eta 0:00:01\r\u001b[K     |███████████████████████▊        | 450kB 9.4MB/s eta 0:00:01\r\u001b[K     |████████████████████████▎       | 460kB 9.4MB/s eta 0:00:01\r\u001b[K     |████████████████████████▉       | 471kB 9.4MB/s eta 0:00:01\r\u001b[K     |█████████████████████████▍      | 481kB 9.4MB/s eta 0:00:01\r\u001b[K     |██████████████████████████      | 491kB 9.4MB/s eta 0:00:01\r\u001b[K     |██████████████████████████▍     | 501kB 9.4MB/s eta 0:00:01\r\u001b[K     |███████████████████████████     | 512kB 9.4MB/s eta 0:00:01\r\u001b[K     |███████████████████████████▌    | 522kB 9.4MB/s eta 0:00:01\r\u001b[K     |████████████████████████████    | 532kB 9.4MB/s eta 0:00:01\r\u001b[K     |████████████████████████████▋   | 542kB 9.4MB/s eta 0:00:01\r\u001b[K     |█████████████████████████████▏  | 552kB 9.4MB/s eta 0:00:01\r\u001b[K     |█████████████████████████████▊  | 563kB 9.4MB/s eta 0:00:01\r\u001b[K     |██████████████████████████████▏ | 573kB 9.4MB/s eta 0:00:01\r\u001b[K     |██████████████████████████████▊ | 583kB 9.4MB/s eta 0:00:01\r\u001b[K     |███████████████████████████████▎| 593kB 9.4MB/s eta 0:00:01\r\u001b[K     |███████████████████████████████▉| 604kB 9.4MB/s eta 0:00:01\r\u001b[K     |████████████████████████████████| 614kB 9.4MB/s \n",
            "\u001b[?25hRequirement already satisfied: opt-einsum>=2.3.2 in /usr/local/lib/python3.6/dist-packages (from pyro-ppl) (3.3.0)\n",
            "Collecting pyro-api>=0.1.1\n",
            "  Downloading https://files.pythonhosted.org/packages/fc/81/957ae78e6398460a7230b0eb9b8f1cb954c5e913e868e48d89324c68cec7/pyro_api-0.1.2-py3-none-any.whl\n",
            "Requirement already satisfied: tqdm>=4.36 in /usr/local/lib/python3.6/dist-packages (from pyro-ppl) (4.41.1)\n",
            "Requirement already satisfied: numpy>=1.7 in /usr/local/lib/python3.6/dist-packages (from pyro-ppl) (1.19.4)\n",
            "Requirement already satisfied: torch>=1.6.0 in /usr/local/lib/python3.6/dist-packages (from pyro-ppl) (1.7.0+cu101)\n",
            "Requirement already satisfied: future in /usr/local/lib/python3.6/dist-packages (from torch>=1.6.0->pyro-ppl) (0.16.0)\n",
            "Requirement already satisfied: typing-extensions in /usr/local/lib/python3.6/dist-packages (from torch>=1.6.0->pyro-ppl) (3.7.4.3)\n",
            "Requirement already satisfied: dataclasses in /usr/local/lib/python3.6/dist-packages (from torch>=1.6.0->pyro-ppl) (0.8)\n",
            "Installing collected packages: pyro-api, pyro-ppl\n",
            "Successfully installed pyro-api-0.1.2 pyro-ppl-1.5.1\n"
          ],
          "name": "stdout"
        }
      ]
    },
    {
      "cell_type": "code",
      "metadata": {
        "id": "Wc5UzEIBaUiv"
      },
      "source": [
        "%matplotlib inline\n",
        "\n",
        "import pyro\n",
        "import pyro.distributions as dist\n",
        "from pyro import poutine\n",
        "from pyro.infer.autoguide import AutoGuideList, AutoDelta, AutoDiagonalNormal, AutoMultivariateNormal, AutoDiscreteParallel \n",
        "from pyro.infer.autoguide import init_to_mean, init_to_uniform\n",
        "from pyro.optim import Adam\n",
        "from pyro.infer import SVI, Trace_ELBO, TraceEnum_ELBO, config_enumerate, infer_discrete\n",
        "from pyro.infer.mcmc.api import MCMC\n",
        "from pyro.infer.mcmc import NUTS\n",
        "\n",
        "from torch.distributions import constraints\n",
        "import torch\n",
        "import numpy as np\n",
        "from matplotlib import pyplot\n",
        "import pandas as pd\n"
      ],
      "execution_count": 3,
      "outputs": []
    },
    {
      "cell_type": "code",
      "metadata": {
        "id": "RwYOaxp3aUi0"
      },
      "source": [
        "nPerson = 2\n",
        "nModesPerPerson = 3\n",
        "nSpectralCoeff = 2\n",
        "nSamplesPerMode = 4\n",
        "\n",
        "modeCovarianceFactor = 100\n",
        "personCovarianceFactor = 1\n",
        "dataCovarianceFactor = .01\n",
        "\n",
        "modeMean = torch.zeros(nSpectralCoeff)\n",
        "modeCovariance = modeCovarianceFactor * torch.eye(nSpectralCoeff)\n",
        "personCovariance = personCovarianceFactor * torch.eye(nSpectralCoeff)\n",
        "dataCovariance = dataCovarianceFactor * torch.eye(nSpectralCoeff)"
      ],
      "execution_count": 4,
      "outputs": []
    },
    {
      "cell_type": "code",
      "metadata": {
        "id": "5l-_Fx5LaUi1"
      },
      "source": [
        "def generateData(nPerson, nModesPerPerson, nSpectralCoeff, nSamplesPerMode):\n",
        "    modeLocs = {}\n",
        "    locs = {}\n",
        "    data = []\n",
        "    personIndex = []\n",
        "    \n",
        "    for thisMode in pyro.plate(\"modeLoc_loop\", nModesPerPerson):\n",
        "        modeLocName = \"modeLoc_\" + str(thisMode)\n",
        "        thisModeLoc = pyro.sample(modeLocName, dist.MultivariateNormal(modeMean, modeCovariance))\n",
        "        modeLocs[modeLocName] = thisModeLoc\n",
        "        \n",
        "        for thisPerson in pyro.plate(\"person_loop\", nPerson):\n",
        "            locName = \"locModePerson_\" + str(thisMode) + \"_\" + str(thisPerson)\n",
        "            thisLoc = pyro.sample(locName, dist.MultivariateNormal(thisModeLoc, personCovariance))\n",
        "            locs[locName] = thisLoc\n",
        "\n",
        "            for thisDataSample in pyro.plate(\"data_loop\", nSamplesPerMode):\n",
        "                dataName = \"dataMPS_\" + str(thisMode) + \"_\" + str(thisPerson) + \"_\" + str(thisDataSample)\n",
        "                thisDatum = pyro.sample(dataName, dist.MultivariateNormal(thisLoc, dataCovariance)).numpy()\n",
        "                data.append(thisDatum)\n",
        "                personIndex.append(thisPerson)\n",
        "    \n",
        "    return modeLocs, locs, np.hstack((np.expand_dims(np.array(personIndex).transpose(),1), np.array(data)))"
      ],
      "execution_count": 4,
      "outputs": []
    },
    {
      "cell_type": "markdown",
      "metadata": {
        "id": "m6YLBr7gaUi1"
      },
      "source": [
        "# Generate fake data"
      ]
    },
    {
      "cell_type": "code",
      "metadata": {
        "id": "Jtf3jJQTaUi1"
      },
      "source": [
        "#pyro.set_rng_seed(1)\n",
        "pyro.clear_param_store()\n",
        "modeLocsTrue, locsTrue, data = generateData(nPerson, nModesPerPerson, nSpectralCoeff, nSamplesPerMode)"
      ],
      "execution_count": 5,
      "outputs": []
    },
    {
      "cell_type": "markdown",
      "metadata": {
        "id": "jjQ25UHVaUi1"
      },
      "source": [
        "# Plot fake data"
      ]
    },
    {
      "cell_type": "code",
      "metadata": {
        "colab": {
          "base_uri": "https://localhost:8080/",
          "height": 353
        },
        "id": "U1G5s_gdaUi2",
        "outputId": "e04464ef-1fed-49e4-edcf-342a23818617"
      },
      "source": [
        "person = torch.tensor(np.cast['int'](data[:,0]))\n",
        "samples = torch.tensor(data[:,1:]).float()\n",
        "print(modeLocsTrue)\n",
        "print()\n",
        "print(locsTrue)\n",
        "\n",
        "pyplot.figure()\n",
        "pyplot.plot(data[:,1], data[:,2],'.')"
      ],
      "execution_count": 6,
      "outputs": [
        {
          "output_type": "stream",
          "text": [
            "{'modeLoc_0': tensor([ 6.8935, -6.0071]), 'modeLoc_1': tensor([5.8811, 7.9986]), 'modeLoc_2': tensor([-11.5062,   6.7802])}\n",
            "\n",
            "{'locModePerson_0_0': tensor([ 7.6454, -6.9242]), 'locModePerson_0_1': tensor([ 7.8115, -7.0136]), 'locModePerson_1_0': tensor([6.4628, 7.6502]), 'locModePerson_1_1': tensor([5.9633, 7.1428]), 'locModePerson_2_0': tensor([-11.7059,   6.7370]), 'locModePerson_2_1': tensor([-11.8155,   6.6330])}\n"
          ],
          "name": "stdout"
        },
        {
          "output_type": "execute_result",
          "data": {
            "text/plain": [
              "[<matplotlib.lines.Line2D at 0x7f59d0f412b0>]"
            ]
          },
          "metadata": {
            "tags": []
          },
          "execution_count": 6
        },
        {
          "output_type": "display_data",
          "data": {
            "image/png": "[encoded data removed]",
            "text/plain": [
              "<Figure size 432x288 with 1 Axes>"
            ]
          },
          "metadata": {
            "tags": [],
            "needs_background": "light"
          }
        }
      ]
    },
    {
      "cell_type": "markdown",
      "metadata": {
        "id": "qihd5ANZqfCQ"
      },
      "source": [
        "# Define the model and guide"
      ]
    },
    {
      "cell_type": "code",
      "metadata": {
        "id": "LOX5pzytaUi3"
      },
      "source": [
        "@config_enumerate\n",
        "def model(person, sample):\n",
        "    \n",
        "    loc = torch.zeros(size=(nModesPerPerson, nPerson, nSpectralCoeff))\n",
        "    \n",
        "    for thisMode in range(nModesPerPerson):\n",
        "        modeLocName = \"modeLoc_\" + str(thisMode)\n",
        "        thisModeLoc = pyro.sample(modeLocName, dist.MultivariateNormal(modeMean, modeCovariance))\n",
        "        \n",
        "        for thisPerson in range(nPerson):\n",
        "            locName = \"locModePerson_\" + str(thisMode) + \"_\" + str(thisPerson)\n",
        "            thisLoc = pyro.sample(locName, dist.MultivariateNormal(thisModeLoc, personCovariance))\n",
        "\n",
        "            loc[thisMode, thisPerson, :] = thisLoc.clone()\n",
        "    \n",
        "    with pyro.plate('data_loop', len(person)):\n",
        "        modeAssignment = pyro.sample('modeAssignment', \n",
        "                                     dist.Categorical((1./nModesPerPerson) * torch.ones(nModesPerPerson)))\n",
        "        \n",
        "        pyro.sample('obs', \n",
        "                    dist.MultivariateNormal(loc[modeAssignment, person, :], dataCovariance), \n",
        "                    obs=sample)\n",
        "    \n",
        "def guide(person, sample):\n",
        "\n",
        "        modeLocMean = [0 for i in range(nModesPerPerson)]\n",
        "        locModePersonMean = [[0 for i in range(nPerson)] for j in range(nModesPerPerson)]\n",
        "        allSamples = {}\n",
        "\n",
        "        for thisMode in range(nModesPerPerson):\n",
        "            \n",
        "            modeLocName = \"modeLoc_\" + str(thisMode)\n",
        "            \n",
        "            modeLocMean[thisMode] = pyro.param('a{}'.format(thisMode), modeLocsTrue[modeLocName].clone())\n",
        "            allSamples[modeLocName] = pyro.sample(modeLocName, dist.MultivariateNormal(modeLocMean[thisMode], modeCovariance))\n",
        "        \n",
        "            for thisPerson in range(nPerson):\n",
        "                \n",
        "                locName = \"locModePerson_\" + str(thisMode) + \"_\" + str(thisPerson)\n",
        "                locModePersonMean[thisMode][thisPerson] = pyro.param('b{}{}'.format(thisMode,thisPerson), locsTrue[locName].clone())\n",
        "                \n",
        "                allSamples[locName] = pyro.sample(locName, dist.MultivariateNormal(locModePersonMean[thisMode][thisPerson], personCovariance))\n",
        "\n",
        "        modeAssignment = pyro.sample(\"modeAssignment\", \n",
        "                                     dist.Categorical((1./nModesPerPerson) * torch.ones(nModesPerPerson)))"
      ],
      "execution_count": 8,
      "outputs": []
    },
    {
      "cell_type": "markdown",
      "metadata": {
        "id": "cb-iSKpeq4EM"
      },
      "source": [
        "# Do SVI"
      ]
    },
    {
      "cell_type": "code",
      "metadata": {
        "colab": {
          "base_uri": "https://localhost:8080/"
        },
        "id": "F1QHvHsPaUi5",
        "outputId": "19eac6cb-f997-49fd-da52-89da02042590"
      },
      "source": [
        "pyro.clear_param_store()\n",
        "\n",
        "optim = pyro.optim.Adam({'lr': 0.05})\n",
        "elbo = TraceEnum_ELBO()\n",
        "svi = SVI(model, guide, optim, loss=elbo)\n",
        "\n",
        "num_iters = 5000 \n",
        "losses = []\n",
        "\n",
        "for i in range(num_iters):\n",
        "    loss = svi.step(person, samples)\n",
        "    losses.append(loss)\n",
        "    if i % 500 == 0:\n",
        "        print(\"Elbo loss: {}\".format(loss))"
      ],
      "execution_count": 9,
      "outputs": [
        {
          "output_type": "stream",
          "text": [
            "Elbo loss: 229553.25\n",
            "Elbo loss: 162037.46875\n",
            "Elbo loss: 157351.03125\n",
            "Elbo loss: 166593.21875\n",
            "Elbo loss: 157291.765625\n",
            "Elbo loss: 165325.296875\n",
            "Elbo loss: 151969.5625\n",
            "Elbo loss: 180927.625\n",
            "Elbo loss: 159368.140625\n",
            "Elbo loss: 174024.015625\n"
          ],
          "name": "stdout"
        }
      ]
    },
    {
      "cell_type": "code",
      "metadata": {
        "colab": {
          "base_uri": "https://localhost:8080/",
          "height": 404
        },
        "id": "i0zLzJ3maUi5",
        "outputId": "13eee688-5925-4d4c-aade-f620e55ffc5c"
      },
      "source": [
        "pyplot.figure(dpi=100).set_facecolor('white')\n",
        "pyplot.plot(losses)\n",
        "pyplot.xlabel('iters')\n",
        "pyplot.ylabel('loss')\n",
        "pyplot.yscale('log')\n",
        "pyplot.title('Convergence of SVI');"
      ],
      "execution_count": 12,
      "outputs": [
        {
          "output_type": "display_data",
          "data": {
            "image/png": "[encoded data removed]",
            "text/plain": [
              "<Figure size 600x400 with 1 Axes>"
            ]
          },
          "metadata": {
            "tags": []
          }
        }
      ]
    },
    {
      "cell_type": "markdown",
      "metadata": {
        "id": "arXzPV9MzA9g"
      },
      "source": [
        "# Are the parameter estimates close to the ground truth?"
      ]
    },
    {
      "cell_type": "code",
      "metadata": {
        "colab": {
          "base_uri": "https://localhost:8080/"
        },
        "id": "4S2zlgE8aUi5",
        "outputId": "fb77850f-0662-4ab3-beed-fb3891894af1"
      },
      "source": [
        "print(modeLocsTrue)\n",
        "print()\n",
        "print(locsTrue)"
      ],
      "execution_count": 10,
      "outputs": [
        {
          "output_type": "stream",
          "text": [
            "{'modeLoc_0': tensor([ 6.8935, -6.0071]), 'modeLoc_1': tensor([5.8811, 7.9986]), 'modeLoc_2': tensor([-11.5062,   6.7802])}\n",
            "\n",
            "{'locModePerson_0_0': tensor([ 7.6454, -6.9242]), 'locModePerson_0_1': tensor([ 7.8115, -7.0136]), 'locModePerson_1_0': tensor([6.4628, 7.6502]), 'locModePerson_1_1': tensor([5.9633, 7.1428]), 'locModePerson_2_0': tensor([-11.7059,   6.7370]), 'locModePerson_2_1': tensor([-11.8155,   6.6330])}\n"
          ],
          "name": "stdout"
        }
      ]
    },
    {
      "cell_type": "code",
      "metadata": {
        "colab": {
          "base_uri": "https://localhost:8080/"
        },
        "id": "GcfRZbGqaUi6",
        "outputId": "7aff0a91-a55d-42fc-d05d-6863c8e2128a"
      },
      "source": [
        "list(pyro.get_param_store().items())"
      ],
      "execution_count": 11,
      "outputs": [
        {
          "output_type": "execute_result",
          "data": {
            "text/plain": [
              "[('a0', tensor([0.5557, 2.6180], requires_grad=True)),\n",
              " ('b00', tensor([0.9617, 2.4433], requires_grad=True)),\n",
              " ('b01', tensor([0.4566, 2.1221], requires_grad=True)),\n",
              " ('a1', tensor([1.0367, 2.8976], requires_grad=True)),\n",
              " ('b10', tensor([0.8540, 2.5483], requires_grad=True)),\n",
              " ('b11', tensor([0.6014, 2.0580], requires_grad=True)),\n",
              " ('a2', tensor([1.1151, 2.4331], requires_grad=True)),\n",
              " ('b20', tensor([0.7767, 2.7562], requires_grad=True)),\n",
              " ('b21', tensor([0.6274, 2.0807], requires_grad=True))]"
            ]
          },
          "metadata": {
            "tags": []
          },
          "execution_count": 11
        }
      ]
    },
    {
      "cell_type": "code",
      "metadata": {
        "colab": {
          "base_uri": "https://localhost:8080/",
          "height": 147
        },
        "id": "gIsZVIotrhMM",
        "outputId": "bfcbfbfc-5396-4b88-a122-1ebd748d033a"
      },
      "source": [
        "[![Open In Colab](https://colab.research.google.com/assets/colab-badge.svg)](https://colab.research.google.com/github/googlecolab/colabtools/blob/master/notebooks/colab-github-demo.ipynb)"
      ],
      "execution_count": 1,
      "outputs": [
        {
          "output_type": "error",
          "ename": "SyntaxError",
          "evalue": "ignored",
          "traceback": [
            "\u001b[0;36m  File \u001b[0;32m\"<ipython-input-1-5ca232fb86a4>\"\u001b[0;36m, line \u001b[0;32m1\u001b[0m\n\u001b[0;31m    [![Open In Colab](https://colab.research.google.com/assets/colab-badge.svg)](https://colab.research.google.com/github/googlecolab/colabtools/blob/master/notebooks/colab-github-demo.ipynb)\u001b[0m\n\u001b[0m     ^\u001b[0m\n\u001b[0;31mSyntaxError\u001b[0m\u001b[0;31m:\u001b[0m invalid syntax\n"
          ]
        }
      ]
    },
    {
      "cell_type": "markdown",
      "metadata": {
        "id": "yNNajk4HXkco"
      },
      "source": [
        ""
      ]
    }
  ]
}