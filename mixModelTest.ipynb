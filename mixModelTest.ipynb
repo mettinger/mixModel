{
  "nbformat": 4,
  "nbformat_minor": 0,
  "metadata": {
    "kernelspec": {
      "display_name": "Python 3",
      "language": "python",
      "name": "python3"
    },
    "language_info": {
      "codemirror_mode": {
        "name": "ipython",
        "version": 3
      },
      "file_extension": ".py",
      "mimetype": "text/x-python",
      "name": "python",
      "nbconvert_exporter": "python",
      "pygments_lexer": "ipython3",
      "version": "3.8.6"
    },
    "colab": {
      "name": "mixModelTest.ipynb",
      "provenance": [],
      "collapsed_sections": []
    }
  },
  "cells": [
    {
      "cell_type": "markdown",
      "metadata": {
        "id": "k1cSd5l2EN-U"
      },
      "source": [
        "#Right click to open this notebook in Colab:"
      ]
    },
    {
      "cell_type": "markdown",
      "metadata": {
        "id": "jtlrT6EwZgOl"
      },
      "source": [
        "[![Open In Colab](https://colab.research.google.com/assets/colab-badge.svg)](https://colab.research.google.com/github/mettinger/mixModel/blob/main/mixModelTest.ipynb)"
      ]
    },
    {
      "cell_type": "markdown",
      "metadata": {
        "id": "Svi3GHbodBzD"
      },
      "source": [
        "# The statistical model (instantiated parameters are listed in cell below):"
      ]
    },
    {
      "cell_type": "markdown",
      "metadata": {
        "id": "BKEAM0x0d1tu"
      },
      "source": [
        "$mode_i \\sim$ Normal(modeMean, modeCovariance) for $i = 1,...,$nModesPerPerson    \n",
        "\n",
        "$location_{ij} \\sim$ Normal($mode_i$, personCovariance) for $i = 1,...,$nModesPerPerson and $j = 1,...,$nPerson \n",
        "\n",
        "$data_{ijk} \\sim $ Normal($location_{ij}$, dataCovariance) for $i = 1,...,$nModesPerPerson and $j = 1,...,$nPerson and $k = 1,...,$nSamplesPerLocationPerPerson\n"
      ]
    },
    {
      "cell_type": "markdown",
      "metadata": {
        "id": "Qb5Tj_k0dKoh"
      },
      "source": [
        "# Install Pyro and do imports."
      ]
    },
    {
      "cell_type": "code",
      "metadata": {
        "colab": {
          "base_uri": "https://localhost:8080/"
        },
        "id": "cGyX7K9dakPz",
        "outputId": "c815f738-6384-4fef-e1a4-ba8032a822a8"
      },
      "source": [
        "!pip3 install pyro-ppl "
      ],
      "execution_count": 1,
      "outputs": [
        {
          "output_type": "stream",
          "text": [
            "Collecting pyro-ppl\n",
            "\u001b[?25l  Downloading https://files.pythonhosted.org/packages/d5/6c/60e3d9c258d0a145013e7b88d667879ac7ae131c3dd30bb5971548f101bb/pyro_ppl-1.5.1-py3-none-any.whl (607kB)\n",
            "\r\u001b[K     |▌                               | 10kB 15.5MB/s eta 0:00:01\r\u001b[K     |█                               | 20kB 18.9MB/s eta 0:00:01\r\u001b[K     |█▋                              | 30kB 9.6MB/s eta 0:00:01\r\u001b[K     |██▏                             | 40kB 8.5MB/s eta 0:00:01\r\u001b[K     |██▊                             | 51kB 3.9MB/s eta 0:00:01\r\u001b[K     |███▎                            | 61kB 4.5MB/s eta 0:00:01\r\u001b[K     |███▊                            | 71kB 4.9MB/s eta 0:00:01\r\u001b[K     |████▎                           | 81kB 5.4MB/s eta 0:00:01\r\u001b[K     |████▉                           | 92kB 5.3MB/s eta 0:00:01\r\u001b[K     |█████▍                          | 102kB 5.8MB/s eta 0:00:01\r\u001b[K     |██████                          | 112kB 5.8MB/s eta 0:00:01\r\u001b[K     |██████▌                         | 122kB 5.8MB/s eta 0:00:01\r\u001b[K     |███████                         | 133kB 5.8MB/s eta 0:00:01\r\u001b[K     |███████▌                        | 143kB 5.8MB/s eta 0:00:01\r\u001b[K     |████████                        | 153kB 5.8MB/s eta 0:00:01\r\u001b[K     |████████▋                       | 163kB 5.8MB/s eta 0:00:01\r\u001b[K     |█████████▏                      | 174kB 5.8MB/s eta 0:00:01\r\u001b[K     |█████████▊                      | 184kB 5.8MB/s eta 0:00:01\r\u001b[K     |██████████▎                     | 194kB 5.8MB/s eta 0:00:01\r\u001b[K     |██████████▉                     | 204kB 5.8MB/s eta 0:00:01\r\u001b[K     |███████████▎                    | 215kB 5.8MB/s eta 0:00:01\r\u001b[K     |███████████▉                    | 225kB 5.8MB/s eta 0:00:01\r\u001b[K     |████████████▍                   | 235kB 5.8MB/s eta 0:00:01\r\u001b[K     |█████████████                   | 245kB 5.8MB/s eta 0:00:01\r\u001b[K     |█████████████▌                  | 256kB 5.8MB/s eta 0:00:01\r\u001b[K     |██████████████                  | 266kB 5.8MB/s eta 0:00:01\r\u001b[K     |██████████████▋                 | 276kB 5.8MB/s eta 0:00:01\r\u001b[K     |███████████████                 | 286kB 5.8MB/s eta 0:00:01\r\u001b[K     |███████████████▋                | 296kB 5.8MB/s eta 0:00:01\r\u001b[K     |████████████████▏               | 307kB 5.8MB/s eta 0:00:01\r\u001b[K     |████████████████▊               | 317kB 5.8MB/s eta 0:00:01\r\u001b[K     |█████████████████▎              | 327kB 5.8MB/s eta 0:00:01\r\u001b[K     |█████████████████▉              | 337kB 5.8MB/s eta 0:00:01\r\u001b[K     |██████████████████▍             | 348kB 5.8MB/s eta 0:00:01\r\u001b[K     |██████████████████▉             | 358kB 5.8MB/s eta 0:00:01\r\u001b[K     |███████████████████▍            | 368kB 5.8MB/s eta 0:00:01\r\u001b[K     |████████████████████            | 378kB 5.8MB/s eta 0:00:01\r\u001b[K     |████████████████████▌           | 389kB 5.8MB/s eta 0:00:01\r\u001b[K     |█████████████████████           | 399kB 5.8MB/s eta 0:00:01\r\u001b[K     |█████████████████████▋          | 409kB 5.8MB/s eta 0:00:01\r\u001b[K     |██████████████████████▏         | 419kB 5.8MB/s eta 0:00:01\r\u001b[K     |██████████████████████▋         | 430kB 5.8MB/s eta 0:00:01\r\u001b[K     |███████████████████████▏        | 440kB 5.8MB/s eta 0:00:01\r\u001b[K     |███████████████████████▊        | 450kB 5.8MB/s eta 0:00:01\r\u001b[K     |████████████████████████▎       | 460kB 5.8MB/s eta 0:00:01\r\u001b[K     |████████████████████████▉       | 471kB 5.8MB/s eta 0:00:01\r\u001b[K     |█████████████████████████▍      | 481kB 5.8MB/s eta 0:00:01\r\u001b[K     |██████████████████████████      | 491kB 5.8MB/s eta 0:00:01\r\u001b[K     |██████████████████████████▍     | 501kB 5.8MB/s eta 0:00:01\r\u001b[K     |███████████████████████████     | 512kB 5.8MB/s eta 0:00:01\r\u001b[K     |███████████████████████████▌    | 522kB 5.8MB/s eta 0:00:01\r\u001b[K     |████████████████████████████    | 532kB 5.8MB/s eta 0:00:01\r\u001b[K     |████████████████████████████▋   | 542kB 5.8MB/s eta 0:00:01\r\u001b[K     |█████████████████████████████▏  | 552kB 5.8MB/s eta 0:00:01\r\u001b[K     |█████████████████████████████▊  | 563kB 5.8MB/s eta 0:00:01\r\u001b[K     |██████████████████████████████▏ | 573kB 5.8MB/s eta 0:00:01\r\u001b[K     |██████████████████████████████▊ | 583kB 5.8MB/s eta 0:00:01\r\u001b[K     |███████████████████████████████▎| 593kB 5.8MB/s eta 0:00:01\r\u001b[K     |███████████████████████████████▉| 604kB 5.8MB/s eta 0:00:01\r\u001b[K     |████████████████████████████████| 614kB 5.8MB/s \n",
            "\u001b[?25hCollecting pyro-api>=0.1.1\n",
            "  Downloading https://files.pythonhosted.org/packages/fc/81/957ae78e6398460a7230b0eb9b8f1cb954c5e913e868e48d89324c68cec7/pyro_api-0.1.2-py3-none-any.whl\n",
            "Requirement already satisfied: opt-einsum>=2.3.2 in /usr/local/lib/python3.6/dist-packages (from pyro-ppl) (3.3.0)\n",
            "Requirement already satisfied: tqdm>=4.36 in /usr/local/lib/python3.6/dist-packages (from pyro-ppl) (4.41.1)\n",
            "Requirement already satisfied: numpy>=1.7 in /usr/local/lib/python3.6/dist-packages (from pyro-ppl) (1.19.4)\n",
            "Requirement already satisfied: torch>=1.6.0 in /usr/local/lib/python3.6/dist-packages (from pyro-ppl) (1.7.0+cu101)\n",
            "Requirement already satisfied: dataclasses in /usr/local/lib/python3.6/dist-packages (from torch>=1.6.0->pyro-ppl) (0.8)\n",
            "Requirement already satisfied: future in /usr/local/lib/python3.6/dist-packages (from torch>=1.6.0->pyro-ppl) (0.16.0)\n",
            "Requirement already satisfied: typing-extensions in /usr/local/lib/python3.6/dist-packages (from torch>=1.6.0->pyro-ppl) (3.7.4.3)\n",
            "Installing collected packages: pyro-api, pyro-ppl\n",
            "Successfully installed pyro-api-0.1.2 pyro-ppl-1.5.1\n"
          ],
          "name": "stdout"
        }
      ]
    },
    {
      "cell_type": "code",
      "metadata": {
        "id": "Wc5UzEIBaUiv"
      },
      "source": [
        "%matplotlib inline\n",
        "\n",
        "import pyro\n",
        "import pyro.distributions as dist\n",
        "from pyro import poutine\n",
        "from pyro.infer.autoguide import AutoGuideList, AutoDelta, AutoDiagonalNormal, AutoMultivariateNormal, AutoDiscreteParallel \n",
        "from pyro.infer.autoguide import init_to_mean, init_to_uniform\n",
        "from pyro.optim import Adam\n",
        "from pyro.infer import SVI, Trace_ELBO, TraceEnum_ELBO, config_enumerate, infer_discrete\n",
        "from pyro.infer.mcmc.api import MCMC\n",
        "from pyro.infer.mcmc import NUTS\n",
        "\n",
        "from torch.distributions import constraints\n",
        "import torch\n",
        "import numpy as np\n",
        "from matplotlib import pyplot\n",
        "import pandas as pd\n"
      ],
      "execution_count": 2,
      "outputs": []
    },
    {
      "cell_type": "markdown",
      "metadata": {
        "id": "4gVQfUs5dOyS"
      },
      "source": [
        "# Instantiate parameters"
      ]
    },
    {
      "cell_type": "code",
      "metadata": {
        "id": "RwYOaxp3aUi0"
      },
      "source": [
        "nPerson = 2\n",
        "nModesPerPerson = 3\n",
        "nSpectralCoeff = 2 # i.e. the dimensionality of the samples\n",
        "nSamplesPerLocationPerPerson = 4\n",
        "\n",
        "# scaling factors for diagonal covariance matrices\n",
        "modeCovarianceFactor = 100\n",
        "personCovarianceFactor = 1\n",
        "dataCovarianceFactor = .01\n",
        "\n",
        "modeMean = torch.zeros(nSpectralCoeff)\n",
        "modeCovariance = modeCovarianceFactor * torch.eye(nSpectralCoeff)\n",
        "personCovariance = personCovarianceFactor * torch.eye(nSpectralCoeff)\n",
        "dataCovariance = dataCovarianceFactor * torch.eye(nSpectralCoeff)"
      ],
      "execution_count": 3,
      "outputs": []
    },
    {
      "cell_type": "markdown",
      "metadata": {
        "id": "ejldhWEEdWxe"
      },
      "source": [
        "# Function for generating data"
      ]
    },
    {
      "cell_type": "code",
      "metadata": {
        "id": "5l-_Fx5LaUi1"
      },
      "source": [
        "def generateData(nPerson, nModesPerPerson, nSpectralCoeff, nSamplesPerLocationPerPerson):\n",
        "    modeLocs = {}\n",
        "    locs = {}\n",
        "    data = []\n",
        "    personIndex = []\n",
        "    \n",
        "    for thisMode in pyro.plate(\"modeLoc_loop\", nModesPerPerson):\n",
        "        modeLocName = \"modeLoc_\" + str(thisMode)\n",
        "        thisModeLoc = pyro.sample(modeLocName, dist.MultivariateNormal(modeMean, modeCovariance))\n",
        "        modeLocs[modeLocName] = thisModeLoc\n",
        "        \n",
        "        for thisPerson in pyro.plate(\"person_loop\", nPerson):\n",
        "            locName = \"locModePerson_\" + str(thisMode) + \"_\" + str(thisPerson)\n",
        "            thisLoc = pyro.sample(locName, dist.MultivariateNormal(thisModeLoc, personCovariance))\n",
        "            locs[locName] = thisLoc\n",
        "\n",
        "            for thisDataSample in pyro.plate(\"data_loop\", nSamplesPerLocationPerPerson):\n",
        "                dataName = \"dataMPS_\" + str(thisMode) + \"_\" + str(thisPerson) + \"_\" + str(thisDataSample)\n",
        "                thisDatum = pyro.sample(dataName, dist.MultivariateNormal(thisLoc, dataCovariance)).numpy()\n",
        "                data.append(thisDatum)\n",
        "                personIndex.append(thisPerson)\n",
        "    \n",
        "    return modeLocs, locs, np.hstack((np.expand_dims(np.array(personIndex).transpose(),1), np.array(data)))"
      ],
      "execution_count": 4,
      "outputs": []
    },
    {
      "cell_type": "markdown",
      "metadata": {
        "id": "m6YLBr7gaUi1"
      },
      "source": [
        "# Generate simulated data"
      ]
    },
    {
      "cell_type": "code",
      "metadata": {
        "id": "Jtf3jJQTaUi1"
      },
      "source": [
        "#pyro.set_rng_seed(1)\n",
        "pyro.clear_param_store()\n",
        "modeLocsTrue, locsTrue, data = generateData(nPerson, nModesPerPerson, nSpectralCoeff, nSamplesPerLocationPerPerson)"
      ],
      "execution_count": 5,
      "outputs": []
    },
    {
      "cell_type": "markdown",
      "metadata": {
        "id": "o-gra0u8diGq"
      },
      "source": [
        "# Print the paramters and plot the simulated data"
      ]
    },
    {
      "cell_type": "code",
      "metadata": {
        "colab": {
          "base_uri": "https://localhost:8080/",
          "height": 357
        },
        "id": "U1G5s_gdaUi2",
        "outputId": "5b699ae7-0edb-46cc-a0ba-383725543f0e"
      },
      "source": [
        "person = torch.tensor(np.cast['int'](data[:,0]))\n",
        "samples = torch.tensor(data[:,1:]).float()\n",
        "print(modeLocsTrue)\n",
        "print()\n",
        "print(locsTrue)\n",
        "\n",
        "pyplot.figure()\n",
        "pyplot.plot(data[:,1], data[:,2],'.')"
      ],
      "execution_count": 6,
      "outputs": [
        {
          "output_type": "stream",
          "text": [
            "{'modeLoc_0': tensor([  9.6220, -17.7215]), 'modeLoc_1': tensor([-14.8312,  -9.7598]), 'modeLoc_2': tensor([  9.2372, -10.8825])}\n",
            "\n",
            "{'locModePerson_0_0': tensor([ 11.8371, -19.1269]), 'locModePerson_0_1': tensor([  9.5038, -18.2407]), 'locModePerson_1_0': tensor([-12.1012, -10.7619]), 'locModePerson_1_1': tensor([-15.5756,  -8.6256]), 'locModePerson_2_0': tensor([  8.1690, -11.0237]), 'locModePerson_2_1': tensor([ 7.4998, -9.2040])}\n"
          ],
          "name": "stdout"
        },
        {
          "output_type": "execute_result",
          "data": {
            "text/plain": [
              "[<matplotlib.lines.Line2D at 0x7f34ceb990f0>]"
            ]
          },
          "metadata": {
            "tags": []
          },
          "execution_count": 6
        },
        {
          "output_type": "display_data",
          "data": {
            "image/png": "[encoded data removed]",
            "text/plain": [
              "<Figure size 432x288 with 1 Axes>"
            ]
          },
          "metadata": {
            "tags": [],
            "needs_background": "light"
          }
        }
      ]
    },
    {
      "cell_type": "markdown",
      "metadata": {
        "id": "qihd5ANZqfCQ"
      },
      "source": [
        "# Define the model and guide"
      ]
    },
    {
      "cell_type": "code",
      "metadata": {
        "id": "LOX5pzytaUi3"
      },
      "source": [
        "@config_enumerate\n",
        "def model(person, sample):\n",
        "    \n",
        "    loc = torch.zeros(size=(nModesPerPerson, nPerson, nSpectralCoeff))\n",
        "    \n",
        "    for thisMode in range(nModesPerPerson):\n",
        "        modeLocName = \"modeLoc_\" + str(thisMode)\n",
        "        thisModeLoc = pyro.sample(modeLocName, dist.MultivariateNormal(modeMean, modeCovariance))\n",
        "        \n",
        "        for thisPerson in range(nPerson):\n",
        "            locName = \"locModePerson_\" + str(thisMode) + \"_\" + str(thisPerson)\n",
        "            thisLoc = pyro.sample(locName, dist.MultivariateNormal(thisModeLoc, personCovariance))\n",
        "\n",
        "            loc[thisMode, thisPerson, :] = thisLoc.clone()\n",
        "    \n",
        "    with pyro.plate('data_loop', len(person)):\n",
        "        modeAssignment = pyro.sample('modeAssignment', \n",
        "                                     dist.Categorical((1./nModesPerPerson) * torch.ones(nModesPerPerson)))\n",
        "        \n",
        "        pyro.sample('obs', \n",
        "                    dist.MultivariateNormal(loc[modeAssignment, person, :], dataCovariance), \n",
        "                    obs=sample)\n",
        "    \n",
        "def guide(person, sample):\n",
        "\n",
        "        modeLocMean = [0 for i in range(nModesPerPerson)]\n",
        "        locModePersonMean = [[0 for i in range(nPerson)] for j in range(nModesPerPerson)]\n",
        "        allSamples = {}\n",
        "\n",
        "        for thisMode in range(nModesPerPerson):\n",
        "            \n",
        "            modeLocName = \"modeLoc_\" + str(thisMode)\n",
        "            \n",
        "            modeLocMean[thisMode] = pyro.param('a{}'.format(thisMode), modeLocsTrue[modeLocName].clone())\n",
        "            allSamples[modeLocName] = pyro.sample(modeLocName, dist.MultivariateNormal(modeLocMean[thisMode], modeCovariance))\n",
        "        \n",
        "            for thisPerson in range(nPerson):\n",
        "                \n",
        "                locName = \"locModePerson_\" + str(thisMode) + \"_\" + str(thisPerson)\n",
        "                locModePersonMean[thisMode][thisPerson] = pyro.param('b{}{}'.format(thisMode,thisPerson), locsTrue[locName].clone())\n",
        "                \n",
        "                allSamples[locName] = pyro.sample(locName, dist.MultivariateNormal(locModePersonMean[thisMode][thisPerson], personCovariance))\n",
        "\n",
        "        modeAssignment = pyro.sample(\"modeAssignment\", \n",
        "                                     dist.Categorical((1./nModesPerPerson) * torch.ones(nModesPerPerson)))"
      ],
      "execution_count": 7,
      "outputs": []
    },
    {
      "cell_type": "markdown",
      "metadata": {
        "id": "cb-iSKpeq4EM"
      },
      "source": [
        "# Do SVI"
      ]
    },
    {
      "cell_type": "code",
      "metadata": {
        "colab": {
          "base_uri": "https://localhost:8080/"
        },
        "id": "F1QHvHsPaUi5",
        "outputId": "9dee08bd-bdf8-4c90-f090-c85f2dde9683"
      },
      "source": [
        "pyro.clear_param_store()\n",
        "\n",
        "optim = pyro.optim.Adam({'lr': 0.05})\n",
        "elbo = TraceEnum_ELBO()\n",
        "svi = SVI(model, guide, optim, loss=elbo)\n",
        "\n",
        "num_iters = 5000 \n",
        "losses = []\n",
        "\n",
        "for i in range(num_iters):\n",
        "    loss = svi.step(person, samples)\n",
        "    losses.append(loss)\n",
        "    if i % 500 == 0:\n",
        "        print(\"Elbo loss: {}\".format(loss))"
      ],
      "execution_count": 8,
      "outputs": [
        {
          "output_type": "stream",
          "text": [
            "Elbo loss: 267176.40625\n",
            "Elbo loss: 183812.390625\n",
            "Elbo loss: 174858.5625\n",
            "Elbo loss: 186146.21875\n",
            "Elbo loss: 182307.5\n",
            "Elbo loss: 170267.109375\n",
            "Elbo loss: 183102.6875\n",
            "Elbo loss: 176627.90625\n",
            "Elbo loss: 184413.6875\n",
            "Elbo loss: 182102.90625\n"
          ],
          "name": "stdout"
        }
      ]
    },
    {
      "cell_type": "code",
      "metadata": {
        "colab": {
          "base_uri": "https://localhost:8080/",
          "height": 404
        },
        "id": "i0zLzJ3maUi5",
        "outputId": "cfd911eb-ea6f-4f02-b161-c4c9fcf89c5f"
      },
      "source": [
        "pyplot.figure(dpi=100).set_facecolor('white')\n",
        "pyplot.plot(losses)\n",
        "pyplot.xlabel('iters')\n",
        "pyplot.ylabel('loss')\n",
        "pyplot.yscale('log')\n",
        "pyplot.title('Convergence of SVI');"
      ],
      "execution_count": 9,
      "outputs": [
        {
          "output_type": "display_data",
          "data": {
            "image/png": "[encoded data removed]",
            "text/plain": [
              "<Figure size 600x400 with 1 Axes>"
            ]
          },
          "metadata": {
            "tags": []
          }
        }
      ]
    },
    {
      "cell_type": "markdown",
      "metadata": {
        "id": "arXzPV9MzA9g"
      },
      "source": [
        "# Are the parameter estimates close to the ground truth?"
      ]
    },
    {
      "cell_type": "code",
      "metadata": {
        "colab": {
          "base_uri": "https://localhost:8080/"
        },
        "id": "4S2zlgE8aUi5",
        "outputId": "9bcc67b7-6b61-44c3-89a6-ae6e762dd93d"
      },
      "source": [
        "print(modeLocsTrue)\n",
        "print()\n",
        "print(locsTrue)"
      ],
      "execution_count": 10,
      "outputs": [
        {
          "output_type": "stream",
          "text": [
            "{'modeLoc_0': tensor([  9.6220, -17.7215]), 'modeLoc_1': tensor([-14.8312,  -9.7598]), 'modeLoc_2': tensor([  9.2372, -10.8825])}\n",
            "\n",
            "{'locModePerson_0_0': tensor([ 11.8371, -19.1269]), 'locModePerson_0_1': tensor([  9.5038, -18.2407]), 'locModePerson_1_0': tensor([-12.1012, -10.7619]), 'locModePerson_1_1': tensor([-15.5756,  -8.6256]), 'locModePerson_2_0': tensor([  8.1690, -11.0237]), 'locModePerson_2_1': tensor([ 7.4998, -9.2040])}\n"
          ],
          "name": "stdout"
        }
      ]
    },
    {
      "cell_type": "code",
      "metadata": {
        "colab": {
          "base_uri": "https://localhost:8080/"
        },
        "id": "GcfRZbGqaUi6",
        "outputId": "a544af62-bfb5-47f3-b076-5b55448516f8"
      },
      "source": [
        "list(pyro.get_param_store().items())"
      ],
      "execution_count": 11,
      "outputs": [
        {
          "output_type": "execute_result",
          "data": {
            "text/plain": [
              "[('a0', tensor([  1.0778, -13.0914], requires_grad=True)),\n",
              " ('b00', tensor([  2.7967, -13.5060], requires_grad=True)),\n",
              " ('b01', tensor([  0.6224, -11.7839], requires_grad=True)),\n",
              " ('a1', tensor([  2.1527, -12.4237], requires_grad=True)),\n",
              " ('b10', tensor([  2.7810, -13.6077], requires_grad=True)),\n",
              " ('b11', tensor([  0.5288, -12.3640], requires_grad=True)),\n",
              " ('a2', tensor([  0.8032, -13.5890], requires_grad=True)),\n",
              " ('b20', tensor([  2.8073, -13.2735], requires_grad=True)),\n",
              " ('b21', tensor([  0.7946, -12.0200], requires_grad=True))]"
            ]
          },
          "metadata": {
            "tags": []
          },
          "execution_count": 11
        }
      ]
    }
  ]
}