{
  "nbformat": 4,
  "nbformat_minor": 0,
  "metadata": {
    "kernelspec": {
      "display_name": "Python 3",
      "language": "python",
      "name": "python3"
    },
    "language_info": {
      "codemirror_mode": {
        "name": "ipython",
        "version": 3
      },
      "file_extension": ".py",
      "mimetype": "text/x-python",
      "name": "python",
      "nbconvert_exporter": "python",
      "pygments_lexer": "ipython3",
      "version": "3.8.6"
    },
    "colab": {
      "name": "mixModelTest.ipynb",
      "provenance": [],
      "collapsed_sections": []
    }
  },
  "cells": [
    {
      "cell_type": "markdown",
      "metadata": {
        "id": "k1cSd5l2EN-U"
      },
      "source": [
        "#Right click to open this notebook in Colab:"
      ]
    },
    {
      "cell_type": "markdown",
      "metadata": {
        "id": "jtlrT6EwZgOl"
      },
      "source": [
        "[![Open In Colab](https://colab.research.google.com/assets/colab-badge.svg)](https://colab.research.google.com/github/mettinger/mixModel/blob/main/mixModelTest.ipynb)"
      ]
    },
    {
      "cell_type": "markdown",
      "metadata": {
        "id": "Svi3GHbodBzD"
      },
      "source": [
        "# The statistical model:"
      ]
    },
    {
      "cell_type": "markdown",
      "metadata": {
        "id": "BKEAM0x0d1tu"
      },
      "source": [
        "$mode_i \\sim$ MultivariateNormal(modeMean, modeCovariance) for $i = 1,...,$nModesPerPerson    \n",
        "\n",
        "$location_{ij} \\sim$ MultivariateNormal($mode_i$, personCovariance) for $i = 1,...,$nModesPerPerson and $j = 1,...,$nPerson \n",
        "\n",
        "$data_{ijk} \\sim$ MultivariateNormal($location_{ij}$, dataCovariance) for $i = 1,...,$nModesPerPerson and $j = 1,...,$nPerson and $k = 1,...,$nSamplesPerLocationPerPerson\n"
      ]
    },
    {
      "cell_type": "markdown",
      "metadata": {
        "id": "8S9T-etfgvr4"
      },
      "source": [
        "Notes:  \n",
        "\n",
        "1.  nModesPerPerson, nPerson, nSamplesPerLocationPerPerson are constants specified below.  One further specified constant is dataDimension which specifies the dimension of the data.\n",
        "2.  modeMean, modeCovariance, personCovariance, dataCovariance are statistical parameters specificed below and used in the data generating function.    \n",
        "3.  The goal of inference is to \"discover\" the parameters $mode_i$ and $location_{ij}$ for all i,j.  \n",
        "4.  The parameters in item #2 above are assumed \"known\" and used in the model."
      ]
    },
    {
      "cell_type": "markdown",
      "metadata": {
        "id": "Qb5Tj_k0dKoh"
      },
      "source": [
        "# Install Pyro and do imports."
      ]
    },
    {
      "cell_type": "code",
      "metadata": {
        "colab": {
          "base_uri": "https://localhost:8080/"
        },
        "id": "cGyX7K9dakPz",
        "outputId": "c663579c-cb59-4b0d-9e90-8f048d5660dd"
      },
      "source": [
        "!pip3 install pyro-ppl "
      ],
      "execution_count": 1,
      "outputs": [
        {
          "output_type": "stream",
          "text": [
            "Requirement already satisfied: pyro-ppl in /usr/local/lib/python3.6/dist-packages (1.5.1)\n",
            "Requirement already satisfied: opt-einsum>=2.3.2 in /usr/local/lib/python3.6/dist-packages (from pyro-ppl) (3.3.0)\n",
            "Requirement already satisfied: pyro-api>=0.1.1 in /usr/local/lib/python3.6/dist-packages (from pyro-ppl) (0.1.2)\n",
            "Requirement already satisfied: torch>=1.6.0 in /usr/local/lib/python3.6/dist-packages (from pyro-ppl) (1.7.0+cu101)\n",
            "Requirement already satisfied: tqdm>=4.36 in /usr/local/lib/python3.6/dist-packages (from pyro-ppl) (4.41.1)\n",
            "Requirement already satisfied: numpy>=1.7 in /usr/local/lib/python3.6/dist-packages (from pyro-ppl) (1.19.4)\n",
            "Requirement already satisfied: future in /usr/local/lib/python3.6/dist-packages (from torch>=1.6.0->pyro-ppl) (0.16.0)\n",
            "Requirement already satisfied: dataclasses in /usr/local/lib/python3.6/dist-packages (from torch>=1.6.0->pyro-ppl) (0.8)\n",
            "Requirement already satisfied: typing-extensions in /usr/local/lib/python3.6/dist-packages (from torch>=1.6.0->pyro-ppl) (3.7.4.3)\n"
          ],
          "name": "stdout"
        }
      ]
    },
    {
      "cell_type": "code",
      "metadata": {
        "id": "Wc5UzEIBaUiv"
      },
      "source": [
        "%matplotlib inline\n",
        "\n",
        "import pyro\n",
        "import pyro.distributions as dist\n",
        "from pyro import poutine\n",
        "from pyro.infer.autoguide import AutoGuideList, AutoDelta, AutoDiagonalNormal, AutoMultivariateNormal, AutoDiscreteParallel \n",
        "from pyro.infer.autoguide import init_to_mean, init_to_uniform\n",
        "from pyro.optim import Adam\n",
        "from pyro.infer import SVI, Trace_ELBO, TraceEnum_ELBO, config_enumerate, infer_discrete\n",
        "from pyro.infer.mcmc.api import MCMC\n",
        "from pyro.infer.mcmc import NUTS\n",
        "\n",
        "from torch.distributions import constraints\n",
        "import torch\n",
        "import numpy as np\n",
        "from matplotlib import pyplot\n",
        "import pandas as pd\n",
        "\n",
        "pyro.enable_validation(True)\n"
      ],
      "execution_count": 2,
      "outputs": []
    },
    {
      "cell_type": "markdown",
      "metadata": {
        "id": "4gVQfUs5dOyS"
      },
      "source": [
        "# Instantiate parameters"
      ]
    },
    {
      "cell_type": "code",
      "metadata": {
        "id": "RwYOaxp3aUi0"
      },
      "source": [
        "nPerson = 5\n",
        "nModesPerPerson = 3\n",
        "dataDimension = 2 # i.e. the dimensionality of the samples\n",
        "nSamplesPerLocationPerPerson = 10\n",
        "\n",
        "# scaling factors for diagonal covariance matrices\n",
        "modeCovarianceFactor = 100\n",
        "personCovarianceFactor = 1\n",
        "dataCovarianceFactor = .01\n",
        "\n",
        "modeMean = torch.zeros(dataDimension)\n",
        "modeCovariance = modeCovarianceFactor * torch.eye(dataDimension)\n",
        "personCovariance = personCovarianceFactor * torch.eye(dataDimension)\n",
        "dataCovariance = dataCovarianceFactor * torch.eye(dataDimension)"
      ],
      "execution_count": 3,
      "outputs": []
    },
    {
      "cell_type": "markdown",
      "metadata": {
        "id": "ejldhWEEdWxe"
      },
      "source": [
        "# Function for generating data"
      ]
    },
    {
      "cell_type": "code",
      "metadata": {
        "id": "5l-_Fx5LaUi1"
      },
      "source": [
        "def generateData(nPerson, nModesPerPerson, dataDimension, nSamplesPerLocationPerPerson):\n",
        "    modeLocs = {}\n",
        "    locs = {}\n",
        "    data = []\n",
        "    personIndex = []\n",
        "    \n",
        "    for thisMode in pyro.plate(\"modeLoc_loop\", nModesPerPerson):\n",
        "        modeLocName = \"modeLoc_{}\".format(thisMode)\n",
        "        thisModeLoc = pyro.sample(modeLocName, dist.MultivariateNormal(modeMean, modeCovariance))\n",
        "        modeLocs[modeLocName] = thisModeLoc\n",
        "        \n",
        "        for thisPerson in pyro.plate(\"person_loop\", nPerson):\n",
        "            locName = \"locModePerson_{}{}\".format(thisMode, thisPerson)\n",
        "            thisLoc = pyro.sample(locName, dist.MultivariateNormal(thisModeLoc, personCovariance))\n",
        "            locs[locName] = thisLoc\n",
        "\n",
        "            for thisDataSample in pyro.plate(\"data_loop\", nSamplesPerLocationPerPerson):\n",
        "                dataName = \"dataMPS_{}{}{}\".format(thisMode, thisPerson, thisDataSample)\n",
        "                thisDatum = pyro.sample(dataName, dist.MultivariateNormal(thisLoc, dataCovariance)).numpy()\n",
        "                data.append(thisDatum)\n",
        "                personIndex.append(thisPerson)\n",
        "    \n",
        "    return modeLocs, locs, np.hstack((np.expand_dims(np.array(personIndex).transpose(),1), np.array(data)))"
      ],
      "execution_count": 4,
      "outputs": []
    },
    {
      "cell_type": "markdown",
      "metadata": {
        "id": "m6YLBr7gaUi1"
      },
      "source": [
        "# Generate simulated data"
      ]
    },
    {
      "cell_type": "code",
      "metadata": {
        "id": "Jtf3jJQTaUi1"
      },
      "source": [
        "#pyro.set_rng_seed(1)\n",
        "pyro.clear_param_store()\n",
        "modeLocsTrue, locsTrue, data = generateData(nPerson, nModesPerPerson, dataDimension, nSamplesPerLocationPerPerson)"
      ],
      "execution_count": 5,
      "outputs": []
    },
    {
      "cell_type": "markdown",
      "metadata": {
        "id": "o-gra0u8diGq"
      },
      "source": [
        "# Print the paramters and plot the simulated data"
      ]
    },
    {
      "cell_type": "code",
      "metadata": {
        "colab": {
          "base_uri": "https://localhost:8080/",
          "height": 339
        },
        "id": "U1G5s_gdaUi2",
        "outputId": "dc54318a-d501-42f2-f588-58a5b14bbcd1"
      },
      "source": [
        "person = torch.tensor(np.cast['int'](data[:,0]))\n",
        "samples = torch.tensor(data[:,1:]).float()\n",
        "print(modeLocsTrue)\n",
        "print()\n",
        "print(locsTrue)\n",
        "\n",
        "fig = pyplot.figure()\n",
        "ax = fig.add_subplot(111)\n",
        "ax.set_aspect('equal')\n",
        "pyplot.plot(data[:,1], data[:,2],'.')"
      ],
      "execution_count": 6,
      "outputs": [
        {
          "output_type": "stream",
          "text": [
            "{'modeLoc_0': tensor([-4.4534, -7.1675]), 'modeLoc_1': tensor([  0.8725, -14.0480]), 'modeLoc_2': tensor([  6.5940, -15.3650])}\n",
            "\n",
            "{'locModePerson_00': tensor([-7.5905, -7.5867]), 'locModePerson_01': tensor([-3.9469, -6.6749]), 'locModePerson_02': tensor([-3.0652, -6.7982]), 'locModePerson_03': tensor([-3.2510, -6.3673]), 'locModePerson_04': tensor([-3.9291, -6.6791]), 'locModePerson_10': tensor([ -1.7507, -13.4490]), 'locModePerson_11': tensor([  1.6860, -14.4084]), 'locModePerson_12': tensor([  0.8446, -14.2909]), 'locModePerson_13': tensor([  0.3803, -15.0920]), 'locModePerson_14': tensor([  0.2833, -13.9706]), 'locModePerson_20': tensor([  5.8934, -13.3425]), 'locModePerson_21': tensor([  8.4521, -14.2347]), 'locModePerson_22': tensor([  5.9764, -14.7310]), 'locModePerson_23': tensor([  6.3558, -16.0849]), 'locModePerson_24': tensor([  5.8642, -15.7302])}\n"
          ],
          "name": "stdout"
        },
        {
          "output_type": "execute_result",
          "data": {
            "text/plain": [
              "[<matplotlib.lines.Line2D at 0x7f04237634e0>]"
            ]
          },
          "metadata": {
            "tags": []
          },
          "execution_count": 6
        },
        {
          "output_type": "display_data",
          "data": {
            "image/png": "[encoded data removed]",
            "text/plain": [
              "<Figure size 432x288 with 1 Axes>"
            ]
          },
          "metadata": {
            "tags": [],
            "needs_background": "light"
          }
        }
      ]
    },
    {
      "cell_type": "markdown",
      "metadata": {
        "id": "qihd5ANZqfCQ"
      },
      "source": [
        "# Define the model"
      ]
    },
    {
      "cell_type": "code",
      "metadata": {
        "id": "OW1wvSHiJLRi"
      },
      "source": [
        "@config_enumerate\n",
        "def model(person, sample):\n",
        "    \n",
        "    loc = torch.zeros(size=(nModesPerPerson, nPerson, dataDimension))\n",
        "    \n",
        "    for thisMode in range(nModesPerPerson):\n",
        "        modeLocName = \"modeLoc_{}\".format(thisMode)\n",
        "        thisModeLoc = pyro.sample(modeLocName, dist.MultivariateNormal(modeMean, modeCovariance))\n",
        "        \n",
        "        for thisPerson in range(nPerson):\n",
        "            locName = \"locModePerson_{}{}\".format(thisMode, thisPerson)\n",
        "            thisLoc = pyro.sample(locName, dist.MultivariateNormal(thisModeLoc, personCovariance))\n",
        "\n",
        "            loc[thisMode, thisPerson, :] = thisLoc.clone()\n",
        "    \n",
        "    with pyro.plate('data_loop', len(person)):\n",
        "        modeAssignment = pyro.sample('modeAssignment', \n",
        "                                     dist.Categorical((1./nModesPerPerson) * torch.ones(nModesPerPerson)))\n",
        "        \n",
        "        pyro.sample('obs', \n",
        "                    dist.MultivariateNormal(loc[modeAssignment, person, :], dataCovariance), \n",
        "                    obs=sample)"
      ],
      "execution_count": 7,
      "outputs": []
    },
    {
      "cell_type": "markdown",
      "metadata": {
        "id": "tLM5IBwFJRDC"
      },
      "source": [
        "#Choose the guide"
      ]
    },
    {
      "cell_type": "code",
      "metadata": {
        "id": "LOX5pzytaUi3"
      },
      "source": [
        "guideChoice = 2\n",
        "initErrorScale = 1\n",
        "\n",
        "def initValues(site):\n",
        "\n",
        "  trueValues = {**modeLocsTrue,**locsTrue}\n",
        "  error = initErrorScale * torch.rand(size=[2])\n",
        "  initValue = trueValues[site['name']] + error\n",
        "  print (site['name'], error, initValue)\n",
        "  return initValue\n",
        "\n",
        "if guideChoice == 0:\n",
        "  guide = AutoGuideList(model)\n",
        "  guide.append(AutoDelta(poutine.block(model, hide=['modeAssignment']), init_loc_fn=initValues))\n",
        "  guide.append(AutoDiscreteParallel(poutine.block(model, expose=[\"modeAssignment\"])))\n",
        "\n",
        "elif guideChoice == 1:\n",
        "  guide = AutoGuideList(model)\n",
        "  guide.append(AutoDiagonalNormal(poutine.block(model, hide=['modeAssignment']), init_loc_fn=initValues))\n",
        "  guide.append(AutoDiscreteParallel(poutine.block(model, expose=[\"modeAssignment\"])))\n",
        "\n",
        "elif guideChoice == 2:\n",
        "  @config_enumerate\n",
        "  def guide(person, sample):\n",
        "\n",
        "          modeLocMean = torch.zeros(size=(nModesPerPerson, dataDimension))\n",
        "          modeLoc = torch.zeros(size=(nModesPerPerson, dataDimension))\n",
        "\n",
        "          locModePersonMean = torch.zeros(size=(nModesPerPerson, nPerson, dataDimension))\n",
        "          locModePerson = torch.zeros(size=(nModesPerPerson, nPerson, dataDimension))\n",
        "\n",
        "          for thisMode in range(nModesPerPerson):\n",
        "              \n",
        "              modeLocName = \"modeLoc_{}\".format(thisMode)\n",
        "              modeLocMean[thisMode,:] = pyro.param('a{}'.format(thisMode), modeLocsTrue[modeLocName].clone())\n",
        "              modeLoc[thisMode,:] = pyro.sample(modeLocName, \n",
        "                                                dist.MultivariateNormal(modeLocMean[thisMode,:], torch.eye(dataDimension)))\n",
        "          \n",
        "              for thisPerson in range(nPerson):\n",
        "                  \n",
        "                  locName = \"locModePerson_{}{}\".format(thisMode, thisPerson)\n",
        "                  locModePersonMean[thisMode, thisPerson, :] = pyro.param('b{}{}'.format(thisMode,thisPerson), locsTrue[locName].clone())\n",
        "                  locModePerson[thisMode, thisPerson,:] = pyro.sample('locModePerson_{}{}'.format(thisMode, thisPerson), \n",
        "                                                                      dist.MultivariateNormal(locModePersonMean[thisMode, thisPerson, :], torch.eye(dataDimension)))\n",
        "\n",
        "          with pyro.plate('data_loop', len(person)):\n",
        "              modeAssignment = pyro.sample(\"modeAssignment\", dist.Categorical((1./nModesPerPerson) * torch.ones(nModesPerPerson)))"
      ],
      "execution_count": 8,
      "outputs": []
    },
    {
      "cell_type": "markdown",
      "metadata": {
        "id": "cb-iSKpeq4EM"
      },
      "source": [
        "# Do SVI"
      ]
    },
    {
      "cell_type": "code",
      "metadata": {
        "colab": {
          "base_uri": "https://localhost:8080/"
        },
        "id": "F1QHvHsPaUi5",
        "outputId": "87859d48-b2bb-4218-9e52-98212b441e43"
      },
      "source": [
        "pyro.clear_param_store()\n",
        "\n",
        "optim = pyro.optim.Adam({'lr': 0.05})\n",
        "elbo = TraceEnum_ELBO()\n",
        "svi = SVI(model, guide, optim, loss=elbo)\n",
        "\n",
        "num_iters = 10000 \n",
        "losses = []\n",
        "\n",
        "for i in range(num_iters):\n",
        "    loss = svi.step(person, samples)\n",
        "    losses.append(loss)\n",
        "    if i % 1000 == 0:\n",
        "        print(\"Elbo loss: {}\".format(loss))"
      ],
      "execution_count": 9,
      "outputs": [
        {
          "output_type": "stream",
          "text": [
            "Elbo loss: 514373.6875\n",
            "Elbo loss: 273068.0625\n",
            "Elbo loss: 263871.15625\n",
            "Elbo loss: 269829.40625\n",
            "Elbo loss: 268272.84375\n",
            "Elbo loss: 271362.90625\n",
            "Elbo loss: 280761.3125\n",
            "Elbo loss: 271878.96875\n",
            "Elbo loss: 270648.40625\n",
            "Elbo loss: 265805.03125\n"
          ],
          "name": "stdout"
        }
      ]
    },
    {
      "cell_type": "code",
      "metadata": {
        "colab": {
          "base_uri": "https://localhost:8080/",
          "height": 404
        },
        "id": "i0zLzJ3maUi5",
        "outputId": "4e15780a-df63-4baf-dda6-8066281bd832"
      },
      "source": [
        "pyplot.figure(dpi=100).set_facecolor('white')\n",
        "pyplot.plot(losses)\n",
        "pyplot.xlabel('iters')\n",
        "pyplot.ylabel('loss')\n",
        "pyplot.yscale('log')\n",
        "pyplot.title('Convergence of SVI');"
      ],
      "execution_count": 10,
      "outputs": [
        {
          "output_type": "display_data",
          "data": {
            "image/png": "[encoded data removed]",
            "text/plain": [
              "<Figure size 600x400 with 1 Axes>"
            ]
          },
          "metadata": {
            "tags": []
          }
        }
      ]
    },
    {
      "cell_type": "markdown",
      "metadata": {
        "id": "arXzPV9MzA9g"
      },
      "source": [
        "# Are the parameter estimates close to the ground truth?"
      ]
    },
    {
      "cell_type": "code",
      "metadata": {
        "colab": {
          "base_uri": "https://localhost:8080/"
        },
        "id": "4S2zlgE8aUi5",
        "outputId": "7aa84ec2-a690-419b-eaf4-069598d01942"
      },
      "source": [
        "print(modeLocsTrue)\n",
        "print()\n",
        "print(locsTrue)"
      ],
      "execution_count": 11,
      "outputs": [
        {
          "output_type": "stream",
          "text": [
            "{'modeLoc_0': tensor([-4.4534, -7.1675]), 'modeLoc_1': tensor([  0.8725, -14.0480]), 'modeLoc_2': tensor([  6.5940, -15.3650])}\n",
            "\n",
            "{'locModePerson_00': tensor([-7.5905, -7.5867]), 'locModePerson_01': tensor([-3.9469, -6.6749]), 'locModePerson_02': tensor([-3.0652, -6.7982]), 'locModePerson_03': tensor([-3.2510, -6.3673]), 'locModePerson_04': tensor([-3.9291, -6.6791]), 'locModePerson_10': tensor([ -1.7507, -13.4490]), 'locModePerson_11': tensor([  1.6860, -14.4084]), 'locModePerson_12': tensor([  0.8446, -14.2909]), 'locModePerson_13': tensor([  0.3803, -15.0920]), 'locModePerson_14': tensor([  0.2833, -13.9706]), 'locModePerson_20': tensor([  5.8934, -13.3425]), 'locModePerson_21': tensor([  8.4521, -14.2347]), 'locModePerson_22': tensor([  5.9764, -14.7310]), 'locModePerson_23': tensor([  6.3558, -16.0849]), 'locModePerson_24': tensor([  5.8642, -15.7302])}\n"
          ],
          "name": "stdout"
        }
      ]
    },
    {
      "cell_type": "code",
      "metadata": {
        "colab": {
          "base_uri": "https://localhost:8080/"
        },
        "id": "GcfRZbGqaUi6",
        "outputId": "5639cbf5-f0f6-488f-8f4a-19d901535477"
      },
      "source": [
        "list(pyro.get_param_store().items())"
      ],
      "execution_count": 12,
      "outputs": [
        {
          "output_type": "execute_result",
          "data": {
            "text/plain": [
              "[('a0', tensor([  0.7457, -11.8564], requires_grad=True)),\n",
              " ('b00', tensor([ -0.9356, -11.3597], requires_grad=True)),\n",
              " ('b01', tensor([  2.0522, -11.7329], requires_grad=True)),\n",
              " ('b02', tensor([  1.2202, -11.9416], requires_grad=True)),\n",
              " ('b03', tensor([  1.1045, -12.5555], requires_grad=True)),\n",
              " ('b04', tensor([  0.9486, -12.1401], requires_grad=True)),\n",
              " ('a1', tensor([  0.7095, -12.3037], requires_grad=True)),\n",
              " ('b10', tensor([ -1.0997, -11.3950], requires_grad=True)),\n",
              " ('b11', tensor([  1.9287, -11.5610], requires_grad=True)),\n",
              " ('b12', tensor([  1.6198, -11.8076], requires_grad=True)),\n",
              " ('b13', tensor([  1.1474, -12.3826], requires_grad=True)),\n",
              " ('b14', tensor([  0.8051, -12.0190], requires_grad=True)),\n",
              " ('a2', tensor([  0.5530, -11.9222], requires_grad=True)),\n",
              " ('b20', tensor([ -0.9358, -11.2253], requires_grad=True)),\n",
              " ('b21', tensor([  2.0010, -11.8219], requires_grad=True)),\n",
              " ('b22', tensor([  1.5597, -12.3021], requires_grad=True)),\n",
              " ('b23', tensor([  1.1317, -12.5508], requires_grad=True)),\n",
              " ('b24', tensor([  0.7093, -12.3235], requires_grad=True))]"
            ]
          },
          "metadata": {
            "tags": []
          },
          "execution_count": 12
        }
      ]
    },
    {
      "cell_type": "code",
      "metadata": {
        "colab": {
          "base_uri": "https://localhost:8080/"
        },
        "id": "OSJ6F5OHUk3X",
        "outputId": "ba596a00-e4c1-4d4a-f221-9e06a9625e27"
      },
      "source": [
        "from pyro.infer import Predictive\n",
        "\n",
        "num_samples = 5\n",
        "predictive = Predictive(model, guide=guide, num_samples=num_samples)\n",
        "svi_samples = {k: v.detach().cpu().numpy() for k, v in predictive(person, samples).items() if k != \"obs\"}\n",
        "svi_samples"
      ],
      "execution_count": 13,
      "outputs": [
        {
          "output_type": "execute_result",
          "data": {
            "text/plain": [
              "{'locModePerson_00': array([[[ -1.0650727, -10.084209 ]],\n",
              " \n",
              "        [[ -1.0109394, -11.036551 ]],\n",
              " \n",
              "        [[ -2.0639813, -10.458916 ]],\n",
              " \n",
              "        [[  1.7947853, -11.276602 ]],\n",
              " \n",
              "        [[ -1.1268907, -12.945353 ]]], dtype=float32),\n",
              " 'locModePerson_01': array([[[  2.737119 , -12.908292 ]],\n",
              " \n",
              "        [[  2.3563251, -12.29699  ]],\n",
              " \n",
              "        [[  3.4556978, -11.64302  ]],\n",
              " \n",
              "        [[  2.7134867, -12.571478 ]],\n",
              " \n",
              "        [[  1.7879333, -11.443526 ]]], dtype=float32),\n",
              " 'locModePerson_02': array([[[  1.1943836 , -12.869235  ]],\n",
              " \n",
              "        [[  1.172535  , -13.352017  ]],\n",
              " \n",
              "        [[  0.81210077, -12.5049925 ]],\n",
              " \n",
              "        [[  2.084793  , -13.363188  ]],\n",
              " \n",
              "        [[ -0.08627641, -13.54209   ]]], dtype=float32),\n",
              " 'locModePerson_03': array([[[  1.7246647 , -13.428793  ]],\n",
              " \n",
              "        [[  1.0251964 , -12.555632  ]],\n",
              " \n",
              "        [[  1.31438   , -11.049241  ]],\n",
              " \n",
              "        [[  0.02164698, -12.094969  ]],\n",
              " \n",
              "        [[ -0.37742877, -12.057601  ]]], dtype=float32),\n",
              " 'locModePerson_04': array([[[  1.209353  , -11.578042  ]],\n",
              " \n",
              "        [[  0.34037673, -12.973441  ]],\n",
              " \n",
              "        [[ -0.29050642, -11.248057  ]],\n",
              " \n",
              "        [[  2.5268245 , -11.521264  ]],\n",
              " \n",
              "        [[  0.7086197 , -10.858859  ]]], dtype=float32),\n",
              " 'locModePerson_10': array([[[ -0.5078867 , -11.577332  ]],\n",
              " \n",
              "        [[ -1.4990258 , -13.514912  ]],\n",
              " \n",
              "        [[ -0.75691175, -11.657762  ]],\n",
              " \n",
              "        [[  0.7242968 , -11.372556  ]],\n",
              " \n",
              "        [[ -1.9895034 , -11.312849  ]]], dtype=float32),\n",
              " 'locModePerson_11': array([[[ -1.5506754 , -12.0938015 ]],\n",
              " \n",
              "        [[  1.724109  , -11.843832  ]],\n",
              " \n",
              "        [[  0.12070835, -11.603776  ]],\n",
              " \n",
              "        [[  1.4063013 , -13.737523  ]],\n",
              " \n",
              "        [[  0.9151678 , -11.245033  ]]], dtype=float32),\n",
              " 'locModePerson_12': array([[[  3.1636028 , -11.857327  ]],\n",
              " \n",
              "        [[  2.2428334 , -13.817578  ]],\n",
              " \n",
              "        [[  1.0719945 ,  -9.873868  ]],\n",
              " \n",
              "        [[  3.9206147 , -12.67648   ]],\n",
              " \n",
              "        [[  0.97993475, -10.790331  ]]], dtype=float32),\n",
              " 'locModePerson_13': array([[[ 1.71997786e+00, -1.20207214e+01]],\n",
              " \n",
              "        [[-6.20901585e-03, -1.30812197e+01]],\n",
              " \n",
              "        [[ 9.30219471e-01, -1.12631235e+01]],\n",
              " \n",
              "        [[ 2.08458710e+00, -1.22739744e+01]],\n",
              " \n",
              "        [[ 1.03490186e+00, -1.23967457e+01]]], dtype=float32),\n",
              " 'locModePerson_14': array([[[  1.7146485 , -11.778135  ]],\n",
              " \n",
              "        [[ -0.09336942, -12.684254  ]],\n",
              " \n",
              "        [[  1.5553422 , -11.762682  ]],\n",
              " \n",
              "        [[  1.3565848 , -12.17521   ]],\n",
              " \n",
              "        [[ -0.39345598, -13.330698  ]]], dtype=float32),\n",
              " 'locModePerson_20': array([[[  0.1351434, -11.797949 ]],\n",
              " \n",
              "        [[ -1.1574566, -12.966864 ]],\n",
              " \n",
              "        [[ -0.7599393, -12.344654 ]],\n",
              " \n",
              "        [[ -0.6624723, -10.440723 ]],\n",
              " \n",
              "        [[ -0.9701836, -11.305002 ]]], dtype=float32),\n",
              " 'locModePerson_21': array([[[  1.1563982, -13.015289 ]],\n",
              " \n",
              "        [[  2.59106  , -11.962363 ]],\n",
              " \n",
              "        [[  2.8085318,  -9.459196 ]],\n",
              " \n",
              "        [[  3.3631654, -13.342885 ]],\n",
              " \n",
              "        [[  2.2700973, -11.45428  ]]], dtype=float32),\n",
              " 'locModePerson_22': array([[[  1.9440265 , -13.949845  ]],\n",
              " \n",
              "        [[  0.45837545, -12.636093  ]],\n",
              " \n",
              "        [[  1.1810126 , -11.663637  ]],\n",
              " \n",
              "        [[  2.2632372 , -11.685749  ]],\n",
              " \n",
              "        [[  3.0377257 , -12.191195  ]]], dtype=float32),\n",
              " 'locModePerson_23': array([[[  0.48060983, -12.198999  ]],\n",
              " \n",
              "        [[  0.990273  , -14.354044  ]],\n",
              " \n",
              "        [[  1.4539909 , -13.111943  ]],\n",
              " \n",
              "        [[  0.25052315, -12.352216  ]],\n",
              " \n",
              "        [[  3.0213149 , -12.871295  ]]], dtype=float32),\n",
              " 'locModePerson_24': array([[[  0.62271976, -12.124434  ]],\n",
              " \n",
              "        [[  0.20863241, -12.682216  ]],\n",
              " \n",
              "        [[  1.9106636 , -10.3982525 ]],\n",
              " \n",
              "        [[  1.1948761 , -12.966871  ]],\n",
              " \n",
              "        [[ -0.13568151, -12.578057  ]]], dtype=float32),\n",
              " 'modeAssignment': array([[2, 0, 2, 0, 2, 0, 2, 1, 2, 0, 1, 2, 1, 2, 1, 1, 0, 2, 0, 0, 0, 1,\n",
              "         1, 2, 2, 2, 2, 1, 0, 2, 2, 1, 2, 1, 2, 0, 2, 0, 2, 1, 2, 1, 0, 0,\n",
              "         1, 2, 0, 1, 2, 1, 2, 0, 2, 1, 1, 1, 2, 1, 0, 2, 2, 1, 1, 0, 0, 1,\n",
              "         2, 1, 1, 0, 2, 0, 2, 1, 1, 2, 2, 0, 1, 2, 2, 2, 1, 1, 1, 2, 0, 1,\n",
              "         0, 0, 2, 2, 2, 0, 0, 1, 0, 1, 2, 1, 0, 0, 0, 2, 2, 1, 0, 2, 1, 1,\n",
              "         0, 0, 0, 1, 2, 2, 1, 1, 0, 2, 2, 2, 1, 1, 2, 0, 2, 2, 2, 1, 1, 0,\n",
              "         0, 0, 2, 0, 1, 2, 1, 1, 1, 2, 2, 1, 2, 0, 1, 1, 2, 1],\n",
              "        [2, 0, 0, 1, 2, 2, 1, 1, 0, 1, 0, 1, 1, 2, 2, 0, 2, 2, 2, 1, 2, 1,\n",
              "         1, 0, 1, 2, 0, 1, 1, 1, 2, 1, 1, 2, 0, 0, 1, 0, 2, 0, 1, 1, 2, 0,\n",
              "         2, 2, 1, 2, 2, 2, 1, 2, 1, 2, 0, 1, 0, 0, 1, 0, 0, 1, 1, 1, 1, 1,\n",
              "         1, 2, 2, 2, 1, 2, 2, 1, 0, 1, 2, 1, 0, 2, 0, 2, 1, 1, 0, 2, 2, 0,\n",
              "         0, 0, 2, 0, 0, 2, 0, 0, 1, 1, 0, 1, 0, 0, 2, 1, 0, 0, 0, 1, 2, 2,\n",
              "         2, 0, 0, 2, 0, 1, 2, 0, 0, 2, 1, 0, 0, 1, 0, 2, 0, 2, 1, 2, 2, 1,\n",
              "         1, 2, 0, 2, 1, 1, 0, 0, 0, 0, 1, 0, 0, 0, 1, 0, 2, 1],\n",
              "        [0, 0, 2, 1, 0, 2, 1, 1, 2, 2, 1, 0, 0, 2, 2, 0, 2, 1, 2, 1, 2, 2,\n",
              "         2, 1, 0, 1, 1, 0, 0, 1, 1, 0, 2, 0, 2, 0, 0, 2, 2, 2, 0, 2, 2, 1,\n",
              "         1, 1, 1, 1, 1, 0, 1, 0, 0, 2, 1, 0, 2, 1, 2, 1, 0, 2, 1, 1, 2, 2,\n",
              "         1, 2, 0, 1, 2, 1, 0, 0, 0, 1, 1, 0, 2, 1, 2, 1, 1, 1, 2, 2, 2, 0,\n",
              "         0, 1, 0, 0, 2, 1, 2, 1, 1, 0, 2, 1, 0, 1, 1, 0, 1, 2, 1, 1, 1, 1,\n",
              "         1, 2, 2, 2, 0, 1, 1, 0, 2, 0, 1, 1, 2, 0, 2, 2, 2, 2, 2, 1, 0, 2,\n",
              "         0, 1, 0, 2, 0, 0, 0, 0, 1, 0, 2, 2, 2, 1, 0, 1, 1, 1],\n",
              "        [1, 2, 1, 1, 0, 0, 2, 2, 2, 2, 1, 0, 2, 0, 0, 1, 2, 2, 0, 1, 1, 1,\n",
              "         0, 2, 0, 1, 2, 2, 1, 0, 1, 2, 1, 0, 1, 2, 2, 1, 1, 0, 1, 2, 2, 1,\n",
              "         2, 1, 1, 0, 2, 0, 2, 2, 2, 2, 0, 2, 1, 2, 0, 0, 0, 2, 0, 0, 1, 2,\n",
              "         1, 1, 1, 0, 1, 0, 1, 1, 0, 1, 1, 1, 2, 1, 1, 2, 0, 0, 2, 1, 2, 2,\n",
              "         0, 1, 2, 0, 1, 1, 1, 2, 2, 0, 1, 2, 0, 2, 1, 0, 0, 2, 0, 2, 0, 2,\n",
              "         2, 0, 0, 1, 0, 2, 0, 2, 2, 0, 1, 0, 2, 2, 0, 0, 0, 1, 1, 0, 1, 2,\n",
              "         2, 2, 0, 2, 1, 1, 0, 1, 1, 0, 1, 0, 2, 2, 1, 0, 1, 2],\n",
              "        [0, 1, 2, 2, 2, 1, 1, 2, 0, 1, 0, 0, 0, 0, 0, 0, 1, 2, 2, 2, 1, 1,\n",
              "         0, 1, 1, 2, 0, 1, 2, 1, 1, 0, 0, 0, 0, 0, 0, 0, 2, 1, 1, 2, 0, 1,\n",
              "         1, 0, 1, 1, 1, 2, 0, 1, 1, 2, 1, 2, 2, 0, 2, 1, 1, 2, 2, 0, 0, 0,\n",
              "         0, 0, 1, 1, 2, 2, 1, 0, 2, 1, 2, 2, 1, 2, 2, 2, 2, 2, 2, 1, 1, 1,\n",
              "         1, 1, 0, 2, 1, 2, 1, 0, 0, 2, 1, 2, 0, 2, 1, 2, 2, 1, 0, 0, 2, 2,\n",
              "         1, 0, 1, 1, 0, 1, 1, 0, 0, 2, 0, 0, 1, 1, 2, 2, 1, 1, 0, 1, 0, 2,\n",
              "         0, 1, 0, 2, 2, 0, 1, 2, 0, 1, 1, 1, 0, 0, 1, 0, 1, 1]]),\n",
              " 'modeLoc_0': array([[[  0.5924107 , -11.335496  ]],\n",
              " \n",
              "        [[  0.75601757, -10.631877  ]],\n",
              " \n",
              "        [[ -0.4731819 , -11.591047  ]],\n",
              " \n",
              "        [[  2.5079963 , -12.375652  ]],\n",
              " \n",
              "        [[ -0.47777492, -13.166264  ]]], dtype=float32),\n",
              " 'modeLoc_1': array([[[  1.6082413 , -11.988684  ]],\n",
              " \n",
              "        [[ -0.7598352 , -12.612644  ]],\n",
              " \n",
              "        [[  1.7312033 , -11.256176  ]],\n",
              " \n",
              "        [[  0.06492567, -11.784991  ]],\n",
              " \n",
              "        [[  1.7281718 , -12.031598  ]]], dtype=float32),\n",
              " 'modeLoc_2': array([[[  1.6277723 , -11.574791  ]],\n",
              " \n",
              "        [[  0.13675195, -11.623218  ]],\n",
              " \n",
              "        [[ -0.2324593 , -11.02351   ]],\n",
              " \n",
              "        [[  0.84052527, -10.115099  ]],\n",
              " \n",
              "        [[  1.5852822 , -12.596186  ]]], dtype=float32)}"
            ]
          },
          "metadata": {
            "tags": []
          },
          "execution_count": 13
        }
      ]
    },
    {
      "cell_type": "code",
      "metadata": {
        "colab": {
          "base_uri": "https://localhost:8080/"
        },
        "id": "PElZnkJvpkQ-",
        "outputId": "edb4e053-b416-4466-d3d0-c69a2628004f"
      },
      "source": [
        "print(modeLocsTrue)\n",
        "print()\n",
        "print(locsTrue)"
      ],
      "execution_count": 14,
      "outputs": [
        {
          "output_type": "stream",
          "text": [
            "{'modeLoc_0': tensor([-4.4534, -7.1675]), 'modeLoc_1': tensor([  0.8725, -14.0480]), 'modeLoc_2': tensor([  6.5940, -15.3650])}\n",
            "\n",
            "{'locModePerson_00': tensor([-7.5905, -7.5867]), 'locModePerson_01': tensor([-3.9469, -6.6749]), 'locModePerson_02': tensor([-3.0652, -6.7982]), 'locModePerson_03': tensor([-3.2510, -6.3673]), 'locModePerson_04': tensor([-3.9291, -6.6791]), 'locModePerson_10': tensor([ -1.7507, -13.4490]), 'locModePerson_11': tensor([  1.6860, -14.4084]), 'locModePerson_12': tensor([  0.8446, -14.2909]), 'locModePerson_13': tensor([  0.3803, -15.0920]), 'locModePerson_14': tensor([  0.2833, -13.9706]), 'locModePerson_20': tensor([  5.8934, -13.3425]), 'locModePerson_21': tensor([  8.4521, -14.2347]), 'locModePerson_22': tensor([  5.9764, -14.7310]), 'locModePerson_23': tensor([  6.3558, -16.0849]), 'locModePerson_24': tensor([  5.8642, -15.7302])}\n"
          ],
          "name": "stdout"
        }
      ]
    },
    {
      "cell_type": "code",
      "metadata": {
        "colab": {
          "base_uri": "https://localhost:8080/",
          "height": 120
        },
        "id": "Ok2H_DR9pnVB",
        "outputId": "dabd288d-1877-4a11-e1b0-5c1aad62431c"
      },
      "source": [
        "'''\n",
        "def guide(person, sample):\n",
        "\n",
        "          modeLocMean = torch.zeros(size=(nModesPerPerson, dataDimension))\n",
        "          #locModePersonMean = torch.zeros(size=(nModesPerPerson, nPerson, dataDimension))\n",
        "\n",
        "          modeLoc = torch.zeros(size=(nModesPerPerson, dataDimension))\n",
        "          locModePerson = torch.zeros(size=(nModesPerPerson, nPerson, dataDimension))\n",
        "\n",
        "          for thisMode in range(nModesPerPerson):\n",
        "              \n",
        "              modeLocName = \"modeLoc_\" + str(thisMode)\n",
        "              \n",
        "              modeLocMean[thisMode,:] = pyro.param('a{}'.format(thisMode), modeLocsTrue[modeLocName].clone())\n",
        "              modeLoc[thisMode,:] = pyro.sample(modeLocName, dist.MultivariateNormal(modeLocMean[thisMode,:], torch.eye(dataDimension)))\n",
        "          \n",
        "              for thisPerson in range(nPerson):\n",
        "                  \n",
        "                  locName = \"locModePerson_\" + str(thisMode) + \"_\" + str(thisPerson)\n",
        "                  #locModePersonMean[thisMode, thisPerson, :] = pyro.param('b{}{}'.format(thisMode,thisPerson), locsTrue[locName].clone())\n",
        "                  \n",
        "                  locModePerson[thisMode, thisPerson,:] = pyro.sample(locName, dist.MultivariateNormal(modeLoc[thisMode, :], personCovariance))\n",
        "\n",
        "          with pyro.plate('data_loop', len(person)):\n",
        "              modeAssignment = pyro.sample(\"modeAssignment\", dist.Categorical((1./nModesPerPerson) * torch.ones(nModesPerPerson)))\n",
        "              '''"
      ],
      "execution_count": 15,
      "outputs": [
        {
          "output_type": "execute_result",
          "data": {
            "application/vnd.google.colaboratory.intrinsic+json": {
              "type": "string"
            },
            "text/plain": [
              "'\\ndef guide(person, sample):\\n\\n          modeLocMean = torch.zeros(size=(nModesPerPerson, dataDimension))\\n          #locModePersonMean = torch.zeros(size=(nModesPerPerson, nPerson, dataDimension))\\n\\n          modeLoc = torch.zeros(size=(nModesPerPerson, dataDimension))\\n          locModePerson = torch.zeros(size=(nModesPerPerson, nPerson, dataDimension))\\n\\n          for thisMode in range(nModesPerPerson):\\n              \\n              modeLocName = \"modeLoc_\" + str(thisMode)\\n              \\n              modeLocMean[thisMode,:] = pyro.param(\\'a{}\\'.format(thisMode), modeLocsTrue[modeLocName].clone())\\n              modeLoc[thisMode,:] = pyro.sample(modeLocName, dist.MultivariateNormal(modeLocMean[thisMode,:], torch.eye(dataDimension)))\\n          \\n              for thisPerson in range(nPerson):\\n                  \\n                  locName = \"locModePerson_\" + str(thisMode) + \"_\" + str(thisPerson)\\n                  #locModePersonMean[thisMode, thisPerson, :] = pyro.param(\\'b{}{}\\'.format(thisMode,thisPerson), locsTrue[locName].clone())\\n                  \\n                  locModePerson[thisMode, thisPerson,:] = pyro.sample(locName, dist.MultivariateNormal(modeLoc[thisMode, :], personCovariance))\\n\\n          with pyro.plate(\\'data_loop\\', len(person)):\\n              modeAssignment = pyro.sample(\"modeAssignment\", dist.Categorical((1./nModesPerPerson) * torch.ones(nModesPerPerson)))\\n              '"
            ]
          },
          "metadata": {
            "tags": []
          },
          "execution_count": 15
        }
      ]
    }
  ]
}